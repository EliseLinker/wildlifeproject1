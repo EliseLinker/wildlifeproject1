{
 "cells": [
  {
   "cell_type": "code",
   "execution_count": 1,
   "metadata": {
    "collapsed": true
   },
   "outputs": [],
   "source": [
    "import os\n",
    "import csv\n",
    "import pandas as pd\n",
    "import numpy as np\n",
    "import matplotlib.pyplot as plt\n",
    "import seaborn as sns\n"
   ]
  },
  {
   "cell_type": "code",
   "execution_count": 2,
   "metadata": {},
   "outputs": [
    {
     "data": {
      "text/html": [
       "<div>\n",
       "<style>\n",
       "    .dataframe thead tr:only-child th {\n",
       "        text-align: right;\n",
       "    }\n",
       "\n",
       "    .dataframe thead th {\n",
       "        text-align: left;\n",
       "    }\n",
       "\n",
       "    .dataframe tbody tr th {\n",
       "        vertical-align: top;\n",
       "    }\n",
       "</style>\n",
       "<table border=\"1\" class=\"dataframe\">\n",
       "  <thead>\n",
       "    <tr style=\"text-align: right;\">\n",
       "      <th></th>\n",
       "      <th>Year</th>\n",
       "      <th>App.</th>\n",
       "      <th>Taxon</th>\n",
       "      <th>Class</th>\n",
       "      <th>Order</th>\n",
       "      <th>Family</th>\n",
       "      <th>Genus</th>\n",
       "      <th>Importer</th>\n",
       "      <th>Exporter</th>\n",
       "      <th>Origin</th>\n",
       "      <th>Importer reported quantity</th>\n",
       "      <th>Exporter reported quantity</th>\n",
       "      <th>Term</th>\n",
       "      <th>Unit</th>\n",
       "      <th>Purpose</th>\n",
       "      <th>Source</th>\n",
       "    </tr>\n",
       "  </thead>\n",
       "  <tbody>\n",
       "    <tr>\n",
       "      <th>0</th>\n",
       "      <td>2016</td>\n",
       "      <td>I</td>\n",
       "      <td>Aquila heliaca</td>\n",
       "      <td>Aves</td>\n",
       "      <td>Falconiformes</td>\n",
       "      <td>Accipitridae</td>\n",
       "      <td>Aquila</td>\n",
       "      <td>TR</td>\n",
       "      <td>NL</td>\n",
       "      <td>CZ</td>\n",
       "      <td>NaN</td>\n",
       "      <td>1.0</td>\n",
       "      <td>bodies</td>\n",
       "      <td>NaN</td>\n",
       "      <td>T</td>\n",
       "      <td>C</td>\n",
       "    </tr>\n",
       "  </tbody>\n",
       "</table>\n",
       "</div>"
      ],
      "text/plain": [
       "   Year App.           Taxon Class          Order        Family   Genus  \\\n",
       "0  2016    I  Aquila heliaca  Aves  Falconiformes  Accipitridae  Aquila   \n",
       "\n",
       "  Importer Exporter Origin  Importer reported quantity  \\\n",
       "0       TR       NL     CZ                         NaN   \n",
       "\n",
       "   Exporter reported quantity    Term Unit Purpose Source  \n",
       "0                         1.0  bodies  NaN       T      C  "
      ]
     },
     "execution_count": 2,
     "metadata": {},
     "output_type": "execute_result"
    }
   ],
   "source": [
    "csvpath = os.path.join('WildLifeTrade2016-2017.csv')\n",
    "wtrade_df = pd.read_csv(csvpath)\n",
    "#Set kwards for diagrams\n",
    "kwargs_figs = {'figsize': (12, 6), 'fontsize': 16}\n",
    "wtrade_df.head(1)"
   ]
  },
  {
   "cell_type": "code",
   "execution_count": 3,
   "metadata": {},
   "outputs": [
    {
     "name": "stdout",
     "output_type": "stream",
     "text": [
      "<class 'pandas.core.frame.DataFrame'>\n",
      "RangeIndex: 67400 entries, 0 to 67399\n",
      "Data columns (total 16 columns):\n",
      "Year                          67400 non-null int64\n",
      "App.                          67400 non-null object\n",
      "Taxon                         67400 non-null object\n",
      "Class                         47061 non-null object\n",
      "Order                         67343 non-null object\n",
      "Family                        66939 non-null object\n",
      "Genus                         65941 non-null object\n",
      "Importer                      67329 non-null object\n",
      "Exporter                      66822 non-null object\n",
      "Origin                        25667 non-null object\n",
      "Importer reported quantity    31900 non-null float64\n",
      "Exporter reported quantity    44226 non-null float64\n",
      "Term                          67400 non-null object\n",
      "Unit                          6449 non-null object\n",
      "Purpose                       61339 non-null object\n",
      "Source                        66853 non-null object\n",
      "dtypes: float64(2), int64(1), object(13)\n",
      "memory usage: 8.2+ MB\n"
     ]
    }
   ],
   "source": [
    "#Visualizing Data\n",
    "wtrade_df.info()"
   ]
  },
  {
   "cell_type": "code",
   "execution_count": 32,
   "metadata": {},
   "outputs": [
    {
     "data": {
      "image/png": "[encoded data removed]",
      "text/plain": [
       "<matplotlib.figure.Figure at 0x1a0a3175f8>"
      ]
     },
     "metadata": {},
     "output_type": "display_data"
    }
   ],
   "source": [
    "sns.heatmap(wtrade_df.isnull())\n",
    "plt.show()\n",
    "plt.savefig('heatmap1.png')"
   ]
  },
  {
   "cell_type": "code",
   "execution_count": 5,
   "metadata": {},
   "outputs": [
    {
     "data": {
      "image/png": "[encoded data removed]",
      "text/plain": [
       "<matplotlib.figure.Figure at 0x1049e6828>"
      ]
     },
     "metadata": {},
     "output_type": "display_data"
    }
   ],
   "source": [
    "sns.heatmap(wtrade_df.corr())\n",
    "plt.show()"
   ]
  },
  {
   "cell_type": "code",
   "execution_count": 6,
   "metadata": {
    "collapsed": true
   },
   "outputs": [],
   "source": [
    "#Cleansing"
   ]
  },
  {
   "cell_type": "code",
   "execution_count": 7,
   "metadata": {},
   "outputs": [
    {
     "data": {
      "text/plain": [
       "Index(['Year', 'App.', 'Taxon', 'Class', 'Order', 'Family', 'Genus',\n",
       "       'Importer', 'Exporter', 'Origin', 'Importer reported quantity',\n",
       "       'Exporter reported quantity', 'Term', 'Unit', 'Purpose', 'Source'],\n",
       "      dtype='object')"
      ]
     },
     "execution_count": 7,
     "metadata": {},
     "output_type": "execute_result"
    }
   ],
   "source": [
    "column_names = wtrade_df.keys()\n",
    "column_names"
   ]
  },
  {
   "cell_type": "code",
   "execution_count": 8,
   "metadata": {},
   "outputs": [
    {
     "name": "stdout",
     "output_type": "stream",
     "text": [
      "Please specify search term for Importer/Exporter top 10: Importer\n"
     ]
    },
    {
     "data": {
      "text/html": [
       "<div>\n",
       "<style>\n",
       "    .dataframe thead tr:only-child th {\n",
       "        text-align: right;\n",
       "    }\n",
       "\n",
       "    .dataframe thead th {\n",
       "        text-align: left;\n",
       "    }\n",
       "\n",
       "    .dataframe tbody tr th {\n",
       "        vertical-align: top;\n",
       "    }\n",
       "</style>\n",
       "<table border=\"1\" class=\"dataframe\">\n",
       "  <thead>\n",
       "    <tr style=\"text-align: right;\">\n",
       "      <th></th>\n",
       "      <th>Importer</th>\n",
       "      <th>Region</th>\n",
       "    </tr>\n",
       "  </thead>\n",
       "  <tbody>\n",
       "    <tr>\n",
       "      <th>0</th>\n",
       "      <td>9780</td>\n",
       "      <td>US</td>\n",
       "    </tr>\n",
       "    <tr>\n",
       "      <th>1</th>\n",
       "      <td>5197</td>\n",
       "      <td>JP</td>\n",
       "    </tr>\n",
       "    <tr>\n",
       "      <th>2</th>\n",
       "      <td>4927</td>\n",
       "      <td>DE</td>\n",
       "    </tr>\n",
       "    <tr>\n",
       "      <th>3</th>\n",
       "      <td>2606</td>\n",
       "      <td>FR</td>\n",
       "    </tr>\n",
       "    <tr>\n",
       "      <th>4</th>\n",
       "      <td>2557</td>\n",
       "      <td>HK</td>\n",
       "    </tr>\n",
       "    <tr>\n",
       "      <th>5</th>\n",
       "      <td>2509</td>\n",
       "      <td>CH</td>\n",
       "    </tr>\n",
       "    <tr>\n",
       "      <th>6</th>\n",
       "      <td>2133</td>\n",
       "      <td>CN</td>\n",
       "    </tr>\n",
       "    <tr>\n",
       "      <th>7</th>\n",
       "      <td>1578</td>\n",
       "      <td>SG</td>\n",
       "    </tr>\n",
       "    <tr>\n",
       "      <th>8</th>\n",
       "      <td>1509</td>\n",
       "      <td>AE</td>\n",
       "    </tr>\n",
       "    <tr>\n",
       "      <th>9</th>\n",
       "      <td>1413</td>\n",
       "      <td>CA</td>\n",
       "    </tr>\n",
       "  </tbody>\n",
       "</table>\n",
       "</div>"
      ],
      "text/plain": [
       "   Importer Region\n",
       "0      9780     US\n",
       "1      5197     JP\n",
       "2      4927     DE\n",
       "3      2606     FR\n",
       "4      2557     HK\n",
       "5      2509     CH\n",
       "6      2133     CN\n",
       "7      1578     SG\n",
       "8      1509     AE\n",
       "9      1413     CA"
      ]
     },
     "execution_count": 8,
     "metadata": {},
     "output_type": "execute_result"
    }
   ],
   "source": [
    "#Top Importer/Exporter\n",
    "column_search_ie = input(\"Please specify search term for Importer/Exporter top 10: \")\n",
    "top_10_region = pd.DataFrame(wtrade_df[column_search_ie].value_counts().head(10))\n",
    "top_10_region['Region'] = top_10_region.index\n",
    "top_10_region.index = range(10)\n",
    "top_10_region"
   ]
  },
  {
   "cell_type": "code",
   "execution_count": 14,
   "metadata": {},
   "outputs": [
    {
     "name": "stdout",
     "output_type": "stream",
     "text": [
      "Please add your seach term among the following list:['Year', 'App.', 'Taxon', 'Class', 'Order', 'Family', 'Genus', 'Importer', 'Exporter', 'Origin', 'Importer reported quantity', 'Exporter reported quantity', 'Term', 'Unit', 'Purpose', 'Source'] Class\n"
     ]
    },
    {
     "data": {
      "text/plain": [
       "Reptilia       18476\n",
       "Anthozoa        8794\n",
       "Mammalia        8533\n",
       "Aves            6886\n",
       "Actinopteri     2759\n",
       "Amphibia         426\n",
       "Insecta          310\n",
       "Bivalvia         269\n",
       "Gastropoda       191\n",
       "Hydrozoa         181\n",
       "Name: Class, dtype: int64"
      ]
     },
     "execution_count": 14,
     "metadata": {},
     "output_type": "execute_result"
    }
   ],
   "source": [
    "#Data counts\n",
    "column_list = list(column_names)\n",
    "search_term = input('Please add your seach term among the following list:%s '%(column_list))\n",
    "wtrade_df[search_term].value_counts().head(10)"
   ]
  },
  {
   "cell_type": "code",
   "execution_count": 31,
   "metadata": {},
   "outputs": [
    {
     "data": {
      "text/plain": [
       "Crocodylus niloticus          2418\n",
       "Python reticulatus            2316\n",
       "Alligator mississippiensis    2100\n",
       "Crocodylus porosus            1404\n",
       "Varanus salvator               964\n",
       "Name: Taxon, dtype: int64"
      ]
     },
     "execution_count": 31,
     "metadata": {},
     "output_type": "execute_result"
    }
   ],
   "source": [
    "wtrade_df['Taxon'].value_counts().head()"
   ]
  },
  {
   "cell_type": "code",
   "execution_count": 30,
   "metadata": {},
   "outputs": [
    {
     "data": {
      "text/plain": [
       "array(['Aves', 'Actinopteri', 'Mammalia', 'Reptilia', nan, 'Amphibia',\n",
       "       'Coelacanthi', 'Elasmobranchii', 'Bivalvia', 'Anthozoa',\n",
       "       'Hirudinoidea', 'Hydrozoa', 'Dipneusti', 'Insecta', 'Arachnida',\n",
       "       'Gastropoda', 'Holothuroidea'], dtype=object)"
      ]
     },
     "execution_count": 30,
     "metadata": {},
     "output_type": "execute_result"
    }
   ],
   "source": [
    "wtrade_df['Class'].unique()"
   ]
  },
  {
   "cell_type": "code",
   "execution_count": 16,
   "metadata": {},
   "outputs": [
    {
     "data": {
      "text/plain": [
       "Purpose\n",
       "B     7\n",
       "E    29\n",
       "G     4\n",
       "H    25\n",
       "L    28\n",
       "M    16\n",
       "N     2\n",
       "P    61\n",
       "Q    35\n",
       "S    40\n",
       "T    77\n",
       "Z     6\n",
       "Name: Term, dtype: int64"
      ]
     },
     "execution_count": 16,
     "metadata": {},
     "output_type": "execute_result"
    }
   ],
   "source": [
    "taxon_trade_groups = wtrade_df.groupby(['Purpose','Term'])['Term'].value_counts()\n",
    "appendices_by_taxon = taxon_trade_groups.groupby(level=0).count()\n",
    "appendices_by_taxon"
   ]
  },
  {
   "cell_type": "code",
   "execution_count": 22,
   "metadata": {},
   "outputs": [
    {
     "name": "stdout",
     "output_type": "stream",
     "text": [
      "Total traded appendices: 35\n"
     ]
    },
    {
     "data": {
      "text/plain": [
       "App.\n",
       "I       8\n",
       "II     14\n",
       "III     7\n",
       "N       6\n",
       "Name: Class, dtype: int64"
      ]
     },
     "execution_count": 22,
     "metadata": {},
     "output_type": "execute_result"
    }
   ],
   "source": [
    "taxon_trade_groups = wtrade_df.groupby(['App.','Class'])['Class'].value_counts()\n",
    "appendices_by_taxon = taxon_trade_groups.groupby(level=0).count()\n",
    "print('Total traded appendices: %s' %(appendices_by_taxon).sum())\n",
    "appendices_by_taxon\n",
    "#list(appendices_by_taxon)"
   ]
  },
  {
   "cell_type": "code",
   "execution_count": 19,
   "metadata": {},
   "outputs": [
    {
     "data": {
      "image/png": "[encoded data removed]",
      "text/plain": [
       "<matplotlib.figure.Figure at 0x106d2c9b0>"
      ]
     },
     "metadata": {},
     "output_type": "display_data"
    }
   ],
   "source": [
    "appendices_by_taxon.plot.bar(**kwargs_figs, title ='WLT')\n",
    "plt.show()"
   ]
  },
  {
   "cell_type": "code",
   "execution_count": 20,
   "metadata": {},
   "outputs": [
    {
     "data": {
      "text/plain": [
       "II     59452\n",
       "I       6008\n",
       "III     1747\n",
       "N        193\n",
       "Name: App., dtype: int64"
      ]
     },
     "execution_count": 20,
     "metadata": {},
     "output_type": "execute_result"
    }
   ],
   "source": [
    "appendices = wtrade_df['App.'].value_counts()\n",
    "appendices"
   ]
  },
  {
   "cell_type": "code",
   "execution_count": null,
   "metadata": {
    "collapsed": true
   },
   "outputs": [],
   "source": [
    "appendices.plot.bar(**kwargs_figs, title ='WLT')\n",
    "plt.show()"
   ]
  },
  {
   "cell_type": "code",
   "execution_count": null,
   "metadata": {
    "collapsed": true
   },
   "outputs": [],
   "source": [
    "wtrade2_df = wtrade_df.set_index('Genus')\n",
    "wtrade2_df.loc['Crocodylus','Term'].value_counts()\n"
   ]
  },
  {
   "cell_type": "code",
   "execution_count": null,
   "metadata": {
    "collapsed": true
   },
   "outputs": [],
   "source": [
    "wtrade_df['Genus'].value_counts().head(10)\n",
    "df = pd.DataFrame(wtrade_df['Genus'].value_counts().head(10))\n",
    "df"
   ]
  },
  {
   "cell_type": "code",
   "execution_count": null,
   "metadata": {
    "collapsed": true
   },
   "outputs": [],
   "source": [
    "list(wtrade_df['Genus'].unique())"
   ]
  },
  {
   "cell_type": "code",
   "execution_count": null,
   "metadata": {
    "collapsed": true
   },
   "outputs": [],
   "source": [
    "df.plot.bar(**kwargs_figs)\n",
    "plt.show()"
   ]
  },
  {
   "cell_type": "code",
   "execution_count": null,
   "metadata": {
    "collapsed": true
   },
   "outputs": [],
   "source": [
    "(pd.DataFrame()\n",
    "     .assign(Exports=wtrade_df.Exporter.value_counts(), \n",
    "             Imports=wtrade_df.Importer.value_counts())\n",
    "     .pipe(lambda df: df.loc[df.fillna(0).sum(axis='columns').sort_values(ascending=False).index])\n",
    "     .head(10)\n",
    "     .plot.bar(**kwargs_figs, title=\"Top 10 Import/Export Countries\")\n",
    ")\n",
    "plt.show()"
   ]
  },
  {
   "cell_type": "code",
   "execution_count": null,
   "metadata": {
    "collapsed": true
   },
   "outputs": [],
   "source": [
    "sns.heatmap(wtrade_df.isnull())"
   ]
  },
  {
   "cell_type": "code",
   "execution_count": null,
   "metadata": {
    "collapsed": true
   },
   "outputs": [],
   "source": []
  },
  {
   "cell_type": "code",
   "execution_count": null,
   "metadata": {
    "collapsed": true
   },
   "outputs": [],
   "source": [
    "#sns.boxplot(data=wtrade_df)"
   ]
  },
  {
   "cell_type": "code",
   "execution_count": null,
   "metadata": {
    "collapsed": true
   },
   "outputs": [],
   "source": [
    "#fig, ax = plt.subplots()\n",
    "#sns.violinplot(x = \"Importer reported quantity\", y = \"Exporter reported quantity\", data = wtrade_df)\n",
    "# Load the data\n",
    "#tips = sns.load_dataset(\"wtrade_df\")\n",
    "\n",
    "# Create violinplot\n",
    "#sns.violinplot(x = \"Year\", data=tips)\n",
    "\n",
    "# Show the plot\n",
    "plt.show()"
   ]
  },
  {
   "cell_type": "code",
   "execution_count": null,
   "metadata": {
    "collapsed": true
   },
   "outputs": [],
   "source": [
    "sns.heatmap(wtrade_df.corr())\n",
    "plt.show()"
   ]
  },
  {
   "cell_type": "code",
   "execution_count": null,
   "metadata": {
    "collapsed": true
   },
   "outputs": [],
   "source": [
    "#sns.distplot(wtrade_df.Importer reported quantity)\n",
    "sns.countplot(x='Type 1', data=wtrade_df)"
   ]
  },
  {
   "cell_type": "code",
   "execution_count": null,
   "metadata": {
    "collapsed": true
   },
   "outputs": [],
   "source": [
    "Percentage = 100 * wtrade_df['Term'].value_counts()/wtrade_df['Term'].value_counts().sum()\n",
    "Percentage"
   ]
  },
  {
   "cell_type": "code",
   "execution_count": null,
   "metadata": {
    "collapsed": true
   },
   "outputs": [],
   "source": [
    "a = []\n",
    "taxon_trade_groups = wtrade_df.groupby(['App.','Taxon'])['Taxon'].value_counts()\n",
    "appendices_count = taxon_trade_groups.groupby(level=0).count()\n",
    "print('Total traded appendices: %s' %(appendices_count).sum())\n",
    "appendices_count"
   ]
  },
  {
   "cell_type": "code",
   "execution_count": null,
   "metadata": {
    "collapsed": true
   },
   "outputs": [],
   "source": [
    "#taxon_groups = wtrade_df.groupby(['Taxon']).count()\n",
    "#taxon_groups"
   ]
  },
  {
   "cell_type": "code",
   "execution_count": null,
   "metadata": {
    "collapsed": true
   },
   "outputs": [],
   "source": [
    "wtrade_df2 = wtrade_df.set_index(\"Taxon\")\n",
    "wtrade_df2.head()"
   ]
  },
  {
   "cell_type": "code",
   "execution_count": null,
   "metadata": {
    "collapsed": true
   },
   "outputs": [],
   "source": [
    "crocodiles = wtrade_df2.loc[\"Crocodylus niloticus\",:]\n",
    "crocodiles"
   ]
  },
  {
   "cell_type": "code",
   "execution_count": null,
   "metadata": {
    "collapsed": true
   },
   "outputs": [],
   "source": [
    "top_taxon = taxon_trade_groups.groupby(level=1).sum()\n",
    "\n",
    "top_taxon.sort_values(ascending = False).head(10)"
   ]
  },
  {
   "cell_type": "code",
   "execution_count": null,
   "metadata": {
    "collapsed": true
   },
   "outputs": [],
   "source": [
    "trading_purposes = wtrade_df['Purpose'].value_counts()\n",
    "trading_purposes.rename(index='Purpose',inplace=True)"
   ]
  },
  {
   "cell_type": "code",
   "execution_count": null,
   "metadata": {
    "collapsed": true
   },
   "outputs": [],
   "source": [
    "trading_purposes = wtrade_df['Source'].value_counts()\n",
    "trading_purposes.rename(index='Source',inplace=True)"
   ]
  },
  {
   "cell_type": "code",
   "execution_count": null,
   "metadata": {
    "collapsed": true
   },
   "outputs": [],
   "source": [
    "trading_purposes = wtrade_df['Term'].value_counts()\n",
    "trading_purposes.rename(index='Term',inplace=True)"
   ]
  },
  {
   "cell_type": "code",
   "execution_count": null,
   "metadata": {
    "collapsed": true
   },
   "outputs": [],
   "source": []
  }
 ],
 "metadata": {
  "kernelspec": {
   "display_name": "Python 3",
   "language": "python",
   "name": "python3"
  },
  "language_info": {
   "codemirror_mode": {
    "name": "ipython",
    "version": 3
   },
   "file_extension": ".py",
   "mimetype": "text/x-python",
   "name": "python",
   "nbconvert_exporter": "python",
   "pygments_lexer": "ipython3",
   "version": "3.6.3"
  }
 },
 "nbformat": 4,
 "nbformat_minor": 2
}
